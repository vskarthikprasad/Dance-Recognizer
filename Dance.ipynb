{
  "nbformat": 4,
  "nbformat_minor": 0,
  "metadata": {
    "colab": {
      "name": "Dance.ipynb",
      "provenance": []
    },
    "kernelspec": {
      "name": "python3",
      "display_name": "Python 3"
    },
    "accelerator": "GPU"
  },
  "cells": [
    {
      "cell_type": "code",
      "metadata": {
        "id": "itNoNExHlXsB",
        "colab_type": "code",
        "colab": {}
      },
      "source": [
        "import tensorflow as tf\n",
        "import matplotlib.pyplot as plt\n",
        "from tensorflow.keras.preprocessing.image import ImageDataGenerator\n",
        "from tensorflow.keras.applications.vgg16 import VGG16\n",
        "import pandas as pd\n",
        "import numpy as np\n",
        "import os,cv2\n",
        "from sklearn.preprocessing import LabelEncoder\n",
        "from sklearn.model_selection import train_test_split\n",
        "from tensorflow.keras.utils import to_categorical\n",
        "from tensorflow.keras.callbacks import ReduceLROnPlateau"
      ],
      "execution_count": null,
      "outputs": []
    },
    {
      "cell_type": "code",
      "metadata": {
        "id": "rCbSoNI1lbge",
        "colab_type": "code",
        "colab": {
          "base_uri": "https://localhost:8080/",
          "height": 204
        },
        "outputId": "4943189f-5d93-4e48-e1ac-637f80a7c5f6"
      },
      "source": [
        "train=pd.read_csv('train.csv')\n",
        "train.head()"
      ],
      "execution_count": null,
      "outputs": [
        {
          "output_type": "execute_result",
          "data": {
            "text/html": [
              "<div>\n",
              "<style scoped>\n",
              "    .dataframe tbody tr th:only-of-type {\n",
              "        vertical-align: middle;\n",
              "    }\n",
              "\n",
              "    .dataframe tbody tr th {\n",
              "        vertical-align: top;\n",
              "    }\n",
              "\n",
              "    .dataframe thead th {\n",
              "        text-align: right;\n",
              "    }\n",
              "</style>\n",
              "<table border=\"1\" class=\"dataframe\">\n",
              "  <thead>\n",
              "    <tr style=\"text-align: right;\">\n",
              "      <th></th>\n",
              "      <th>Image</th>\n",
              "      <th>target</th>\n",
              "    </tr>\n",
              "  </thead>\n",
              "  <tbody>\n",
              "    <tr>\n",
              "      <th>0</th>\n",
              "      <td>96.jpg</td>\n",
              "      <td>manipuri</td>\n",
              "    </tr>\n",
              "    <tr>\n",
              "      <th>1</th>\n",
              "      <td>163.jpg</td>\n",
              "      <td>bharatanatyam</td>\n",
              "    </tr>\n",
              "    <tr>\n",
              "      <th>2</th>\n",
              "      <td>450.jpg</td>\n",
              "      <td>odissi</td>\n",
              "    </tr>\n",
              "    <tr>\n",
              "      <th>3</th>\n",
              "      <td>219.jpg</td>\n",
              "      <td>kathakali</td>\n",
              "    </tr>\n",
              "    <tr>\n",
              "      <th>4</th>\n",
              "      <td>455.jpg</td>\n",
              "      <td>odissi</td>\n",
              "    </tr>\n",
              "  </tbody>\n",
              "</table>\n",
              "</div>"
            ],
            "text/plain": [
              "     Image         target\n",
              "0   96.jpg       manipuri\n",
              "1  163.jpg  bharatanatyam\n",
              "2  450.jpg         odissi\n",
              "3  219.jpg      kathakali\n",
              "4  455.jpg         odissi"
            ]
          },
          "metadata": {
            "tags": []
          },
          "execution_count": 43
        }
      ]
    },
    {
      "cell_type": "code",
      "metadata": {
        "id": "rkhBXoAfoNHV",
        "colab_type": "code",
        "colab": {
          "base_uri": "https://localhost:8080/",
          "height": 51
        },
        "outputId": "888b6493-1e08-403e-a811-567ff93559fc"
      },
      "source": [
        "base='Dance'\n",
        "train_dir = os.path.join(str(base)+ '/train/')\n",
        "test_dir = os.path.join(str(base)+'/test/')\n",
        "\n",
        "train_fnames = os.listdir(train_dir)\n",
        "test_fnames = os.listdir(test_dir)\n",
        "\n",
        "print(train_fnames[:9])\n",
        "print(test_fnames[:9])\n",
        "print(train.Image)"
      ],
      "execution_count": null,
      "outputs": [
        {
          "output_type": "stream",
          "text": [
            "['409.jpg', '1.jpg', '504.jpg', '289.jpg', '87.jpg', '46.jpg', '69.jpg', '353.jpg', '5.jpg']\n",
            "['232.jpg', '429.jpg', '411.jpg', '20.jpg', '175.jpg', '196.jpg', '508.jpg', '114.jpg', '506.jpg']\n"
          ],
          "name": "stdout"
        }
      ]
    },
    {
      "cell_type": "code",
      "metadata": {
        "id": "_2eB-wnTvlAX",
        "colab_type": "code",
        "colab": {}
      },
      "source": [
        "img_width = 224\n",
        "img_height = 224"
      ],
      "execution_count": null,
      "outputs": []
    },
    {
      "cell_type": "code",
      "metadata": {
        "id": "TJFiZrHVvs10",
        "colab_type": "code",
        "colab": {}
      },
      "source": [
        "\n",
        "# this function reads image from the disk,train file for image and class maping and returning output in numpy array formate\n",
        "# for input and target data\n",
        "def train_data_preparation(list_of_images, train, train_dir):\n",
        "    train_data = [] \n",
        "    train_label = [] \n",
        "    for image in list_of_images:\n",
        "        train_data.append(cv2.resize(cv2.imread(train_dir+image), (img_width,img_height), interpolation=cv2.INTER_CUBIC))\n",
        "        if image in list(train['Image']):\n",
        "            train_label.append(train.loc[train['Image'] == image, 'target'].values[0])\n",
        "    \n",
        "            \n",
        "    return train_data, train_label\n",
        "\n",
        "def test_data_prepare(list_of_images, test_dir):\n",
        "    test_data = [] \n",
        "    for image in list_of_images:\n",
        "        test_data.append(cv2.resize(cv2.imread(test_dir+image), (img_width,img_height), interpolation=cv2.INTER_CUBIC)) \n",
        "            \n",
        "    return test_data\n"
      ],
      "execution_count": null,
      "outputs": []
    },
    {
      "cell_type": "code",
      "metadata": {
        "id": "23UJjuH20X4V",
        "colab_type": "code",
        "colab": {}
      },
      "source": [
        "training_data, training_labels = train_data_preparation(train_fnames, train, train_dir)\n",
        "testing_data = test_data_prepare(test_fnames,test_dir)"
      ],
      "execution_count": null,
      "outputs": []
    },
    {
      "cell_type": "code",
      "metadata": {
        "id": "otQp7XlVzpfX",
        "colab_type": "code",
        "colab": {
          "base_uri": "https://localhost:8080/",
          "height": 51
        },
        "outputId": "be70d9b9-0eab-46a9-b370-5469c5549d69"
      },
      "source": [
        "print(train.loc[train['Image'] == '163.jpg','target'])"
      ],
      "execution_count": null,
      "outputs": [
        {
          "output_type": "stream",
          "text": [
            "1    bharatanatyam\n",
            "Name: target, dtype: object\n"
          ],
          "name": "stdout"
        }
      ]
    },
    {
      "cell_type": "code",
      "metadata": {
        "id": "hjzDM_Tm1tbK",
        "colab_type": "code",
        "colab": {}
      },
      "source": [
        "le =LabelEncoder()\n",
        "training_labels=le.fit_transform(training_labels)"
      ],
      "execution_count": null,
      "outputs": []
    },
    {
      "cell_type": "code",
      "metadata": {
        "id": "HDJYoe3n2YaX",
        "colab_type": "code",
        "colab": {}
      },
      "source": [
        "X_train, X_val, y_train, y_val = train_test_split(training_data, training_labels, test_size=0.33, random_state=42)"
      ],
      "execution_count": null,
      "outputs": []
    },
    {
      "cell_type": "code",
      "metadata": {
        "id": "gXqJuZ5k16iC",
        "colab_type": "code",
        "colab": {}
      },
      "source": [
        "train_datagenerator = ImageDataGenerator(\n",
        "        rescale=1. / 255,\n",
        "        featurewise_center=False,  \n",
        "        samplewise_center=False,  \n",
        "        featurewise_std_normalization=False,  \n",
        "        samplewise_std_normalization=False,  \n",
        "        rotation_range=40,  \n",
        "        zoom_range = 0.2,  \n",
        "        shear_range=0.2,\n",
        "        width_shift_range=0.10,  \n",
        "        height_shift_range=0.10,  \n",
        "        horizontal_flip=True,  \n",
        "        vertical_flip=False) \n",
        "\n",
        "\n",
        "val_datagenerator=ImageDataGenerator(\n",
        "        rescale=1. / 255\n",
        ")\n",
        "\n",
        "train_datagenerator.fit(X_train)\n",
        "val_datagenerator.fit(X_val)\n",
        "X_train=np.array(X_train)\n",
        "X_val=np.array(X_val)"
      ],
      "execution_count": null,
      "outputs": []
    },
    {
      "cell_type": "code",
      "metadata": {
        "id": "jFMRGrjzqpbA",
        "colab_type": "code",
        "colab": {
          "base_uri": "https://localhost:8080/",
          "height": 833
        },
        "outputId": "6068d2ca-7806-4efe-8c95-2f5e5d813d03"
      },
      "source": [
        "vggmodel =VGG16(weights='imagenet', include_top=False, input_shape = (224, 224, 3),pooling='max')\n",
        "\n",
        " # Print the model summary\n",
        "vggmodel.summary()"
      ],
      "execution_count": null,
      "outputs": [
        {
          "output_type": "stream",
          "text": [
            "Model: \"vgg16\"\n",
            "_________________________________________________________________\n",
            "Layer (type)                 Output Shape              Param #   \n",
            "=================================================================\n",
            "input_2 (InputLayer)         [(None, 224, 224, 3)]     0         \n",
            "_________________________________________________________________\n",
            "block1_conv1 (Conv2D)        (None, 224, 224, 64)      1792      \n",
            "_________________________________________________________________\n",
            "block1_conv2 (Conv2D)        (None, 224, 224, 64)      36928     \n",
            "_________________________________________________________________\n",
            "block1_pool (MaxPooling2D)   (None, 112, 112, 64)      0         \n",
            "_________________________________________________________________\n",
            "block2_conv1 (Conv2D)        (None, 112, 112, 128)     73856     \n",
            "_________________________________________________________________\n",
            "block2_conv2 (Conv2D)        (None, 112, 112, 128)     147584    \n",
            "_________________________________________________________________\n",
            "block2_pool (MaxPooling2D)   (None, 56, 56, 128)       0         \n",
            "_________________________________________________________________\n",
            "block3_conv1 (Conv2D)        (None, 56, 56, 256)       295168    \n",
            "_________________________________________________________________\n",
            "block3_conv2 (Conv2D)        (None, 56, 56, 256)       590080    \n",
            "_________________________________________________________________\n",
            "block3_conv3 (Conv2D)        (None, 56, 56, 256)       590080    \n",
            "_________________________________________________________________\n",
            "block3_pool (MaxPooling2D)   (None, 28, 28, 256)       0         \n",
            "_________________________________________________________________\n",
            "block4_conv1 (Conv2D)        (None, 28, 28, 512)       1180160   \n",
            "_________________________________________________________________\n",
            "block4_conv2 (Conv2D)        (None, 28, 28, 512)       2359808   \n",
            "_________________________________________________________________\n",
            "block4_conv3 (Conv2D)        (None, 28, 28, 512)       2359808   \n",
            "_________________________________________________________________\n",
            "block4_pool (MaxPooling2D)   (None, 14, 14, 512)       0         \n",
            "_________________________________________________________________\n",
            "block5_conv1 (Conv2D)        (None, 14, 14, 512)       2359808   \n",
            "_________________________________________________________________\n",
            "block5_conv2 (Conv2D)        (None, 14, 14, 512)       2359808   \n",
            "_________________________________________________________________\n",
            "block5_conv3 (Conv2D)        (None, 14, 14, 512)       2359808   \n",
            "_________________________________________________________________\n",
            "block5_pool (MaxPooling2D)   (None, 7, 7, 512)         0         \n",
            "_________________________________________________________________\n",
            "global_max_pooling2d_1 (Glob (None, 512)               0         \n",
            "=================================================================\n",
            "Total params: 14,714,688\n",
            "Trainable params: 14,714,688\n",
            "Non-trainable params: 0\n",
            "_________________________________________________________________\n"
          ],
          "name": "stdout"
        }
      ]
    },
    {
      "cell_type": "code",
      "metadata": {
        "id": "8D6XWnwgqp59",
        "colab_type": "code",
        "colab": {}
      },
      "source": [
        "\n",
        "vggmodel.trainable = False\n",
        "model = tf.keras.models.Sequential([\n",
        "                                    vggmodel,\n",
        "                                    tf.keras.layers.Dense(1024,activation='relu'),\n",
        "                                    tf.keras.layers.Dropout(0.15),\n",
        "                                    tf.keras.layers.Dense(256,activation='relu'),\n",
        "                                    tf.keras.layers.Dropout(0.15),\n",
        "                                    tf.keras.layers.Dense(8,activation='softmax'),\n",
        "])"
      ],
      "execution_count": null,
      "outputs": []
    },
    {
      "cell_type": "code",
      "metadata": {
        "id": "D7Fk_k5Mrh4T",
        "colab_type": "code",
        "colab": {
          "base_uri": "https://localhost:8080/",
          "height": 357
        },
        "outputId": "656c807a-6919-417e-8273-f105b42a9138"
      },
      "source": [
        "model.summary()"
      ],
      "execution_count": null,
      "outputs": [
        {
          "output_type": "stream",
          "text": [
            "Model: \"sequential_2\"\n",
            "_________________________________________________________________\n",
            "Layer (type)                 Output Shape              Param #   \n",
            "=================================================================\n",
            "vgg16 (Model)                (None, 512)               14714688  \n",
            "_________________________________________________________________\n",
            "dense_7 (Dense)              (None, 1024)              525312    \n",
            "_________________________________________________________________\n",
            "dropout_4 (Dropout)          (None, 1024)              0         \n",
            "_________________________________________________________________\n",
            "dense_8 (Dense)              (None, 256)               262400    \n",
            "_________________________________________________________________\n",
            "dropout_5 (Dropout)          (None, 256)               0         \n",
            "_________________________________________________________________\n",
            "dense_9 (Dense)              (None, 8)                 2056      \n",
            "=================================================================\n",
            "Total params: 15,504,456\n",
            "Trainable params: 789,768\n",
            "Non-trainable params: 14,714,688\n",
            "_________________________________________________________________\n"
          ],
          "name": "stdout"
        }
      ]
    },
    {
      "cell_type": "code",
      "metadata": {
        "id": "oNcnHc9C5h3K",
        "colab_type": "code",
        "colab": {}
      },
      "source": [
        "reduce_learning_rate = ReduceLROnPlateau(monitor='loss',\n",
        "                                         factor=0.1,\n",
        "                                         patience=2,\n",
        "                                         cooldown=2,\n",
        "                                         min_lr=0.00001,\n",
        "                                         verbose=1)\n",
        "\n",
        "callbacks = [reduce_learning_rate]"
      ],
      "execution_count": null,
      "outputs": []
    },
    {
      "cell_type": "code",
      "metadata": {
        "id": "B59B7iIirmCy",
        "colab_type": "code",
        "colab": {}
      },
      "source": [
        "model.compile(optimizer='rmsprop',loss='categorical_crossentropy',metrics=['accuracy'])"
      ],
      "execution_count": null,
      "outputs": []
    },
    {
      "cell_type": "code",
      "metadata": {
        "id": "wPMZhh4s3e-f",
        "colab_type": "code",
        "colab": {
          "base_uri": "https://localhost:8080/",
          "height": 1000
        },
        "outputId": "e1fd2cac-f58c-4fbb-dfc0-4ff1a8ef1a7a"
      },
      "source": [
        "history =model.fit_generator(\n",
        "    train_datagenerator.flow(X_train, to_categorical(y_train,8), batch_size=16),\n",
        "    validation_data=val_datagenerator.flow(X_val, to_categorical(y_val,8), batch_size=16),\n",
        "    verbose=2,\n",
        "    epochs=30,\n",
        "    callbacks=callbacks\n",
        ")"
      ],
      "execution_count": null,
      "outputs": [
        {
          "output_type": "stream",
          "text": [
            "Epoch 1/30\n",
            "16/16 - 5s - loss: 0.5417 - accuracy: 0.8107 - val_loss: 1.2198 - val_accuracy: 0.6777 - lr: 0.0010\n",
            "Epoch 2/30\n",
            "16/16 - 5s - loss: 0.5974 - accuracy: 0.7942 - val_loss: 1.6197 - val_accuracy: 0.5785 - lr: 0.0010\n",
            "Epoch 3/30\n",
            "\n",
            "Epoch 00003: ReduceLROnPlateau reducing learning rate to 0.00010000000474974513.\n",
            "16/16 - 5s - loss: 0.5575 - accuracy: 0.8148 - val_loss: 1.4751 - val_accuracy: 0.5702 - lr: 0.0010\n",
            "Epoch 4/30\n",
            "16/16 - 5s - loss: 0.2959 - accuracy: 0.8889 - val_loss: 1.2961 - val_accuracy: 0.6446 - lr: 1.0000e-04\n",
            "Epoch 5/30\n",
            "16/16 - 4s - loss: 0.2220 - accuracy: 0.9383 - val_loss: 1.2836 - val_accuracy: 0.6198 - lr: 1.0000e-04\n",
            "Epoch 6/30\n",
            "16/16 - 4s - loss: 0.2020 - accuracy: 0.9383 - val_loss: 1.3253 - val_accuracy: 0.6116 - lr: 1.0000e-04\n",
            "Epoch 7/30\n",
            "16/16 - 5s - loss: 0.1956 - accuracy: 0.9424 - val_loss: 1.3432 - val_accuracy: 0.6116 - lr: 1.0000e-04\n",
            "Epoch 8/30\n",
            "16/16 - 5s - loss: 0.1828 - accuracy: 0.9465 - val_loss: 1.3739 - val_accuracy: 0.6033 - lr: 1.0000e-04\n",
            "Epoch 9/30\n",
            "16/16 - 5s - loss: 0.1786 - accuracy: 0.9383 - val_loss: 1.3869 - val_accuracy: 0.6529 - lr: 1.0000e-04\n",
            "Epoch 10/30\n",
            "16/16 - 5s - loss: 0.1713 - accuracy: 0.9383 - val_loss: 1.4025 - val_accuracy: 0.6198 - lr: 1.0000e-04\n",
            "Epoch 11/30\n",
            "16/16 - 5s - loss: 0.2128 - accuracy: 0.9259 - val_loss: 1.3023 - val_accuracy: 0.6529 - lr: 1.0000e-04\n",
            "Epoch 12/30\n",
            "\n",
            "Epoch 00012: ReduceLROnPlateau reducing learning rate to 1.0000000474974514e-05.\n",
            "16/16 - 5s - loss: 0.1984 - accuracy: 0.9506 - val_loss: 1.3452 - val_accuracy: 0.6529 - lr: 1.0000e-04\n",
            "Epoch 13/30\n",
            "16/16 - 5s - loss: 0.1714 - accuracy: 0.9383 - val_loss: 1.3345 - val_accuracy: 0.6529 - lr: 1.0000e-05\n",
            "Epoch 14/30\n",
            "16/16 - 5s - loss: 0.1584 - accuracy: 0.9424 - val_loss: 1.3324 - val_accuracy: 0.6529 - lr: 1.0000e-05\n",
            "Epoch 15/30\n",
            "16/16 - 4s - loss: 0.1914 - accuracy: 0.9424 - val_loss: 1.3307 - val_accuracy: 0.6446 - lr: 1.0000e-05\n",
            "Epoch 16/30\n",
            "\n",
            "Epoch 00016: ReduceLROnPlateau reducing learning rate to 1e-05.\n",
            "16/16 - 5s - loss: 0.1888 - accuracy: 0.9259 - val_loss: 1.3303 - val_accuracy: 0.6446 - lr: 1.0000e-05\n",
            "Epoch 17/30\n",
            "16/16 - 5s - loss: 0.1574 - accuracy: 0.9465 - val_loss: 1.3353 - val_accuracy: 0.6446 - lr: 1.0000e-05\n",
            "Epoch 18/30\n",
            "16/16 - 5s - loss: 0.1427 - accuracy: 0.9506 - val_loss: 1.3381 - val_accuracy: 0.6281 - lr: 1.0000e-05\n",
            "Epoch 19/30\n",
            "16/16 - 5s - loss: 0.1628 - accuracy: 0.9547 - val_loss: 1.3351 - val_accuracy: 0.6446 - lr: 1.0000e-05\n",
            "Epoch 20/30\n",
            "16/16 - 5s - loss: 0.1658 - accuracy: 0.9506 - val_loss: 1.3243 - val_accuracy: 0.6364 - lr: 1.0000e-05\n",
            "Epoch 21/30\n",
            "16/16 - 5s - loss: 0.1217 - accuracy: 0.9753 - val_loss: 1.3200 - val_accuracy: 0.6446 - lr: 1.0000e-05\n",
            "Epoch 22/30\n",
            "16/16 - 5s - loss: 0.1219 - accuracy: 0.9671 - val_loss: 1.3200 - val_accuracy: 0.6529 - lr: 1.0000e-05\n",
            "Epoch 23/30\n",
            "16/16 - 5s - loss: 0.1272 - accuracy: 0.9630 - val_loss: 1.3281 - val_accuracy: 0.6446 - lr: 1.0000e-05\n",
            "Epoch 24/30\n",
            "16/16 - 5s - loss: 0.1301 - accuracy: 0.9588 - val_loss: 1.3368 - val_accuracy: 0.6446 - lr: 1.0000e-05\n",
            "Epoch 25/30\n",
            "16/16 - 5s - loss: 0.1221 - accuracy: 0.9712 - val_loss: 1.3373 - val_accuracy: 0.6446 - lr: 1.0000e-05\n",
            "Epoch 26/30\n",
            "16/16 - 5s - loss: 0.1124 - accuracy: 0.9671 - val_loss: 1.3219 - val_accuracy: 0.6529 - lr: 1.0000e-05\n",
            "Epoch 27/30\n",
            "16/16 - 5s - loss: 0.1765 - accuracy: 0.9342 - val_loss: 1.3212 - val_accuracy: 0.6529 - lr: 1.0000e-05\n",
            "Epoch 28/30\n",
            "16/16 - 5s - loss: 0.1466 - accuracy: 0.9588 - val_loss: 1.3262 - val_accuracy: 0.6529 - lr: 1.0000e-05\n",
            "Epoch 29/30\n",
            "16/16 - 5s - loss: 0.1685 - accuracy: 0.9506 - val_loss: 1.3207 - val_accuracy: 0.6529 - lr: 1.0000e-05\n",
            "Epoch 30/30\n",
            "16/16 - 5s - loss: 0.1874 - accuracy: 0.9465 - val_loss: 1.3311 - val_accuracy: 0.6529 - lr: 1.0000e-05\n"
          ],
          "name": "stdout"
        }
      ]
    },
    {
      "cell_type": "code",
      "metadata": {
        "id": "Qd_u-IyJ4ZjJ",
        "colab_type": "code",
        "colab": {}
      },
      "source": [
        ""
      ],
      "execution_count": null,
      "outputs": []
    }
  ]
}